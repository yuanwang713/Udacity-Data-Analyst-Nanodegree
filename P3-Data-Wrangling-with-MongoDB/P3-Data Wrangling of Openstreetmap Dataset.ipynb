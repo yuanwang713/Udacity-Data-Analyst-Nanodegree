{
 "cells": [
  {
   "cell_type": "markdown",
   "metadata": {},
   "source": [
    "# ** Data Wrangling of Openstreetmap Dataset**#\n",
    "###### by Yuan Wang (Andy) in fulfillment of Udacity Nanodegree, Project 3"
   ]
  },
  {
   "cell_type": "markdown",
   "metadata": {},
   "source": [
    "## Project Summary <a name=\"top\"></a>\n",
    "Name: Yuan Wang\n",
    "\n",
    "**Map area:**\n",
    "+ Location: Brooklyn, New York\n",
    "- <a href=https://s3.amazonaws.com/metro-extracts.mapzen.com/san-jose_california.osm.bz2> Mapzen URl for Brooklyn, U.S.A. </a> \n",
    "\n",
    "**Objective: **\n",
    "\n",
    "Clean and transform location data in large openstreetmap xml file to structured data format. \n",
    "\n",
    "Assess the quality of the data for validity, accuracy, completeness, consistency and uniformity.\n",
    "\n",
    "Parsing and gather data from popular file formats such as .json, .xml, .csv, .html\n",
    "\n",
    "**References:**\n",
    "\n",
    "Udacity \"Data Wrangling with MongoDB\" - Lesson 6\n",
    "\n",
    "<a href=http://www.cceo.org/addressing/documents/StreetAbbreviationsGuide.pdf> CCEO Street Abbreviations Guide PDF </a> \n"
   ]
  },
  {
   "cell_type": "code",
   "execution_count": 21,
   "metadata": {
    "collapsed": true
   },
   "outputs": [],
   "source": [
    "import xml.etree.cElementTree as ET\n",
    "import pprint\n",
    "import re\n",
    "import collections"
   ]
  },
  {
   "cell_type": "code",
   "execution_count": 2,
   "metadata": {
    "collapsed": true
   },
   "outputs": [],
   "source": [
    "bk_data = \"brooklyn_new-york.osm\""
   ]
  },
  {
   "cell_type": "markdown",
   "metadata": {},
   "source": [
    "> I use XML.Elementree to parse through the Brooklyn dataset and built 'count_tags' function to count the number of unique element types to explore the content of this dataset."
   ]
  },
  {
   "cell_type": "code",
   "execution_count": 3,
   "metadata": {
    "collapsed": false
   },
   "outputs": [
    {
     "name": "stdout",
     "output_type": "stream",
     "text": [
      "{'bounds': 1,\n",
      " 'member': 14551,\n",
      " 'nd': 3494969,\n",
      " 'node': 2484785,\n",
      " 'osm': 1,\n",
      " 'relation': 1701,\n",
      " 'tag': 2819240,\n",
      " 'way': 490294}\n"
     ]
    }
   ],
   "source": [
    "def count_tags(filename):\n",
    "        tags = {}\n",
    "        for event, elem in ET.iterparse(filename):\n",
    "            if elem.tag in tags: \n",
    "                tags[elem.tag] += 1\n",
    "            else:\n",
    "                tags[elem.tag] = 1\n",
    "        return tags\n",
    "bk_tags = count_tags(bk_data)\n",
    "pprint.pprint(bk_tags)"
   ]
  },
  {
   "cell_type": "markdown",
   "metadata": {},
   "source": [
    "> For the function 'key_type', we have a count of each of\n",
    "four tag categories in a dictionary:\n",
    "\"lower\", for tags that contain only lowercase letters and are valid,\n",
    "  \"lower_colon\", for otherwise valid tags with a colon in their names,\n",
    "   \"problemchars\", for tags with problematic characters, and other tags belong to 'other' category. \n"
   ]
  },
  {
   "cell_type": "code",
   "execution_count": 4,
   "metadata": {
    "collapsed": false
   },
   "outputs": [
    {
     "name": "stdout",
     "output_type": "stream",
     "text": [
      "{'lower': 1052673,\n",
      " 'lower_colon': 1745044,\n",
      " 'other': 7239,\n",
      " 'problemchars': 14284}\n"
     ]
    }
   ],
   "source": [
    "import re\n",
    "\n",
    "lower = re.compile(r'^([a-z]|_)*$')\n",
    "lower_colon = re.compile(r'^([a-z]|_)*:([a-z]|_)*$')\n",
    "problemchars = re.compile(r'[=\\+/&<>;\\'\"\\?%#$@\\,\\. \\t\\r\\n]')\n",
    "\n",
    "\n",
    "def key_type(element, keys):\n",
    "    if element.tag == \"tag\":\n",
    "        for tag in element.iter('tag'):\n",
    "            k = tag.get('k')\n",
    "            if lower.search(k):\n",
    "                keys['lower'] += 1\n",
    "            elif lower_colon.search(k):\n",
    "                keys['lower_colon'] += 1\n",
    "            elif problemchars.search(k):\n",
    "                keys['problemchars'] += 1\n",
    "            else:\n",
    "                keys['other'] += 1\n",
    "    return keys\n",
    "\n",
    "\n",
    "def process_map(filename):\n",
    "    keys = {\"lower\": 0, \"lower_colon\": 0, \"problemchars\": 0, \"other\": 0}\n",
    "    for _, element in ET.iterparse(filename):\n",
    "        keys = key_type(element, keys)\n",
    "\n",
    "    return keys\n",
    "\n",
    "bk_keys = process_map(bk_data)\n",
    "pprint.pprint(bk_keys)"
   ]
  },
  {
   "cell_type": "markdown",
   "metadata": {},
   "source": [
    "> 'process_map' function is built to find out how many unique users have contributed to the map in Brooklyn area, we have 1382 uniques users have already worked on this so far."
   ]
  },
  {
   "cell_type": "code",
   "execution_count": 5,
   "metadata": {
    "collapsed": false
   },
   "outputs": [
    {
     "data": {
      "text/plain": [
       "1384"
      ]
     },
     "execution_count": 5,
     "metadata": {},
     "output_type": "execute_result"
    }
   ],
   "source": [
    "#people invovlved in the map editing.\n",
    "def process_map(filename):\n",
    "    users = set()\n",
    "    for _, element in ET.iterparse(filename):\n",
    "        for e in element:\n",
    "            if 'uid' in e.attrib:\n",
    "                users.add(e.attrib['uid'])\n",
    "    return users\n",
    "users = process_map(bk_data)\n",
    "len(users)"
   ]
  },
  {
   "cell_type": "markdown",
   "metadata": {},
   "source": [
    "> Street name abbreviation inconsistency is one of big problems in this dataset. In this following code, we build the regex matching the last element in the string, where usually the street type is based. Then we come up with a list of mapping that need not to be cleaned.  "
   ]
  },
  {
   "cell_type": "code",
   "execution_count": 12,
   "metadata": {
    "collapsed": true
   },
   "outputs": [],
   "source": [
    "from collections import defaultdict\n",
    "\n",
    "street_type_re = re.compile(r'\\b\\S+\\.?$', re.IGNORECASE)\n",
    "\n",
    "expected = [\"Avenue\", \"Boulevard\", \"Commons\", \"Court\", \"Drive\", \"Lane\", \"Parkway\", \n",
    "                         \"Place\", \"Road\", \"Square\", \"Street\", \"Trail\"]\n",
    "\n",
    "mapping = {'Ave'  : 'Avenue',\n",
    "           'Blvd' : 'Boulevard',\n",
    "           'Dr'   : 'Drive',\n",
    "           'Ln'   : 'Lane',\n",
    "           'Pkwy' : 'Parkway',\n",
    "           'Rd'   : 'Road',\n",
    "           'Rd.'   : 'Road',\n",
    "           'St'   : 'Street',\n",
    "           'street' :\"Street\",\n",
    "           'Ct'   : \"Court\",\n",
    "           'Cir'  : \"Circle\",\n",
    "           'Cr'   : \"Court\",\n",
    "           'ave'  : 'Avenue',\n",
    "           'Hwg'  : 'Highway',\n",
    "           'Hwy'  : 'Highway',\n",
    "           'Sq'   : \"Square\"}\n"
   ]
  },
  {
   "cell_type": "markdown",
   "metadata": {},
   "source": [
    ">  'audit_street_type' function searches the input string for the regex. If there is a match and it is not within the \"expected\" list, add the match as a key and add the string to the set. 'is_street_name' function looks at the attribute k if k=\"addre:street\". 'audit function will return the list that match previous two functions. \n"
   ]
  },
  {
   "cell_type": "code",
   "execution_count": 13,
   "metadata": {
    "collapsed": true
   },
   "outputs": [],
   "source": [
    "def audit_street_type(street_types, street_name):\n",
    "    m = street_type_re.search(street_name)\n",
    "    if m:\n",
    "        street_type = m.group()\n",
    "        if street_type not in expected:\n",
    "            street_types[street_type].add(street_name)\n",
    "\n",
    "def is_street_name(elem):\n",
    "    return (elem.attrib['k'] == \"addr:street\")\n",
    "\n",
    "def audit(osmfile):\n",
    "    osm_file = open(osmfile, \"r\")\n",
    "    street_types = defaultdict(set)\n",
    "    for event, elem in ET.iterparse(osm_file, events=(\"start\",)):\n",
    "\n",
    "        if elem.tag == \"node\" or elem.tag == \"way\":\n",
    "            for tag in elem.iter(\"tag\"):\n",
    "                if is_street_name(tag):\n",
    "                    audit_street_type(street_types, tag.attrib['v'])\n",
    "\n",
    "    return street_types"
   ]
  },
  {
   "cell_type": "code",
   "execution_count": 14,
   "metadata": {
    "collapsed": false
   },
   "outputs": [],
   "source": [
    "bk_street_types = audit(bk_data)"
   ]
  },
  {
   "cell_type": "markdown",
   "metadata": {},
   "source": [
    ">'update_name' function is the last step of the auditing process, which replace old names with new names to improve street name abbreviation inconsistency."
   ]
  },
  {
   "cell_type": "code",
   "execution_count": 17,
   "metadata": {
    "collapsed": false
   },
   "outputs": [
    {
     "name": "stdout",
     "output_type": "stream",
     "text": [
      "Aviation Rd => Aviation Road\n",
      "5th street => 5th Street\n",
      "Union street => Union Street\n",
      "Columbia street => Columbia Street\n",
      "Hudson street => Hudson Street\n",
      "Lafayette street => Lafayette Street\n",
      "Mulberry street => Mulberry Street\n",
      "Pearl street => Pearl Street\n",
      "Mott street => Mott Street\n",
      "East 5th street => East 5th Street\n",
      "Rivington street => Rivington Street\n",
      "5th Ave => 5th Avenue\n",
      "Park Ave => Park Avenue\n",
      "Norman Ave => Norman Avenue\n",
      "4th Ave => 4th Avenue\n",
      "6th Ave => 6th Avenue\n",
      "5th ave => 5th Avenue\n",
      "Madison St => Madison Street\n",
      "Jackson St => Jackson Street\n",
      "Grand St => Grand Street\n",
      "Washington St => Washington Street\n",
      "2nd St => 2nd Street\n",
      "Monroe St => Monroe Street\n",
      "362nd Grand St => 362nd Grand Street\n",
      "1st St => 1st Street\n",
      "Union St => Union Street\n",
      "Hudson St => Hudson Street\n",
      "Schermerhorn St => Schermerhorn Street\n",
      "Bloomfield St => Bloomfield Street\n",
      "8th St => 8th Street\n",
      "Smith St & Bergen St => Smith St & Bergen Street\n",
      "River St => River Street\n",
      "State St & Water St => State St & Water Street\n",
      "Garden St => Garden Street\n",
      "Newark St => Newark Street\n",
      "Adams St => Adams Street\n",
      "N 7th St => N 7th Street\n",
      "E 15th St => E 15th Street\n",
      "Jefferson St => Jefferson Street\n",
      "9th St => 9th Street\n",
      "Clinton St => Clinton Street\n",
      "Marin Blvd => Marin Boulevard\n",
      "Queens Blvd => Queens Boulevard\n",
      "Woodhaven Blvd => Woodhaven Boulevard\n"
     ]
    }
   ],
   "source": [
    "def update_name(name, mapping, regex):\n",
    "    m = regex.search(name)\n",
    "    if m:\n",
    "        street_type = m.group()\n",
    "        if street_type in mapping:\n",
    "            name = re.sub(regex, mapping[street_type], name)\n",
    "\n",
    "    return name\n",
    "\n",
    "for street_type, ways in bk_street_types.iteritems():\n",
    "    for name in ways:\n",
    "        better_name = update_name(name, mapping, street_type_re)\n",
    "        if better_name != name:\n",
    "            print name, \"=>\", better_name"
   ]
  }
 ],
 "metadata": {
  "anaconda-cloud": {},
  "kernelspec": {
   "display_name": "Python [Root]",
   "language": "python",
   "name": "Python [Root]"
  },
  "language_info": {
   "codemirror_mode": {
    "name": "ipython",
    "version": 2
   },
   "file_extension": ".py",
   "mimetype": "text/x-python",
   "name": "python",
   "nbconvert_exporter": "python",
   "pygments_lexer": "ipython2",
   "version": "2.7.12"
  }
 },
 "nbformat": 4,
 "nbformat_minor": 0
}
